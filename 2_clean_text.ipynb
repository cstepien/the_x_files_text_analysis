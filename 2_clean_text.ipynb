{
 "cells": [
  {
   "cell_type": "markdown",
   "metadata": {},
   "source": [
    "# Clean text for analysis "
   ]
  },
  {
   "cell_type": "markdown",
   "metadata": {},
   "source": [
    "## Import modules"
   ]
  },
  {
   "cell_type": "code",
   "execution_count": 3,
   "metadata": {},
   "outputs": [],
   "source": [
    "from connect_to_mongo import connect_to_mongo\n",
    "import nltk\n",
    "import pandas as pd\n",
    "from sklearn.feature_extraction.text import CountVectorizer\n",
    "from nltk.corpus import stopwords\n",
    "from nltk.stem import porter"
   ]
  },
  {
   "cell_type": "markdown",
   "metadata": {},
   "source": [
    "## Connect to Mongo database "
   ]
  },
  {
   "cell_type": "code",
   "execution_count": 57,
   "metadata": {},
   "outputs": [],
   "source": [
    "db, transcipts = connect_to_mongo('x-files', 'transcripts')"
   ]
  },
  {
   "cell_type": "markdown",
   "metadata": {},
   "source": [
    "## Format transcripts for basic text analysis "
   ]
  },
  {
   "cell_type": "markdown",
   "metadata": {},
   "source": [
    "Treat each show as a separate text entry. All of Scully's lines will be one entry, all of Mulder's lines another. "
   ]
  },
  {
   "cell_type": "code",
   "execution_count": 61,
   "metadata": {},
   "outputs": [],
   "source": [
    "doc_cursor = transcipts.find()"
   ]
  },
  {
   "cell_type": "code",
   "execution_count": 62,
   "metadata": {},
   "outputs": [],
   "source": [
    "scully_corpus = []\n",
    "mulder_corpus = []\n",
    "for i in doc_cursor:\n",
    "    scully = i['scully_lines']\n",
    "    scully_concat = (' ').join(scully)\n",
    "    scully_corpus.append(scully_concat)\n",
    "    mulder = i['mulder_lines']\n",
    "    mulder_concat = (' ').join(mulder)\n",
    "    mulder_corpus.append(mulder_concat)"
   ]
  },
  {
   "cell_type": "code",
   "execution_count": 72,
   "metadata": {},
   "outputs": [
    {
     "data": {
      "text/plain": [
       "204"
      ]
     },
     "execution_count": 72,
     "metadata": {},
     "output_type": "execute_result"
    }
   ],
   "source": [
    "len(scully_corpus)"
   ]
  },
  {
   "cell_type": "code",
   "execution_count": 73,
   "metadata": {},
   "outputs": [
    {
     "data": {
      "text/plain": [
       "'Agent Dana Scully. Yes, sir. Well, sir, I was recruited out of medical school. Um, my parents still think it was an act of rebellion, but, uh... I saw the F.B.I. as a place where I could distinguish myself. Yes, I am. By reputation. He\\'s an Oxford educated Psychologist, who wrote a monograph on serial killers and the occult, that helped to catch Monty Props in 1988. Generally thought of as the best analyst in the violent crimes section. He had a nickname at the academy... Spooky Mulder. I believe they have to do with unexplained phenomena. Am I to understand that you want me to debunk the X-Files project, sir? Agent Mulder. I\\'m Dana Scully, I\\'ve been assigned to work with you. Actually, I\\'m looking forward to working with you. I\\'ve heard a lot about you. If you have any doubt about my qualifications or credentials, th... Did you bother to read it? Needle punctures, maybe. An animal bite. Electrocution of some kind. It\\'s organic. I don\\'t know, is it some kind of synthetic protein? Do you have a theory? Logically, I would have to say \"no.\" The girl obviously died of something. If it was natural causes, it\\'s plausible that there was something missed in the post-mortem. If she was murdered, it\\'s plausible there was a sloppy investigation. What I find fantastic is any notion that there are answers beyond the realm of science. The answers are there. You just have to know where to look. You didn\\'t mention yesterday, this case has already been investigated. And you found something they didn\\'t. The autopsy reports of the first three victims, show no unidentified marks or tissue samples. But those reports were signed by a different medical examiner than the latest victim. Better than you expected or better that you hoped? Is the medical examiner a suspect? I don\\'t know. I\\'ve never had the pleasure. Hi. Hello. We\\'re not insinuating anything, sir. Ray Soames was the third victim. After graduating high school, he spent time in a state mental hospital treated for post-adolescent schizophrenia. Exposure. His body was found in the woods after escaping the hospital. Subject is a hundred and fifty-six centimeters in length, weighing fifty-two pounds in extremis. Corpse is in advance stages of decay and desiccation. Distinguishing features include large ocular cavities, oblate cranium... indicates subject is not human. Could you point that flash away from me, please? It\\'s mammalian. My guess is it\\'s a chimpanzee or something from the ape family, possibly an orangutan. You\\'re serious? You don\\'t honestly believe this is some kind of an extraterrestrial? This is somebody\\'s sick joke. Who is it? Pass. No... Were any of those Ray Soames\\' classmates? Are you treating any of these kids now? They\\'re here at this hospital? Would it be possible for us to talk to them? How did it happen? How did you know that girl was going to have the marks? Damn it, Mulder, cut the crap. What is going on here? What do you know about those marks? What are they? I\\'m here to solve this case, Mulder, I want the truth. By who? You don\\'t really believe that? I\\'ll buy that girl is suffering some kind of pronounced psychosis. Whether it\\'s organic or the result of those marks, I can\\'t say. But to say that they\\'ve been riding around in flying saucers, it\\'s crazy, Mulder, there is nothing to support that. There has got to be an explaination. You\\'ve got four victims. All of them died in or near the woods. They found Karen Swenson\\'s body in the forest in her pajamas, ten miles from her house. How did she get there? What were those kids doing out there in the forest? Mulder? We are conducting an investigation. Maybe it has something to do with this. It was all over the ground. I think something is going on out here, some kind of a sacrifice, maybe. What if these kids are involved in some kind of occult and that man knows something about it? What are you looking for? We lost what? Come on. No, what a minute. You\\'re saying that, that time disappeared. Time can\\'t just disappear, it\\'s, it\\'s, it\\'s a universal invariant! Great. I want you to look at something. What are they? Are you sure? Yes. I need to sit down. You never found her. What did you do? By accident? What? Who? I don\\'t understand. And they\\'re afraid of what? That, that you\\'ll leak this information? I\\'m not a part of any agenda. You\\'ve got to trust me. I\\'m here just like you, to solve this. But how do you know... The girl in the wheelchair? We need to ask you a few quest... What? They stole the corpse? There goes my computer. Theresa, your father knows about this, doesn\\'t he? About what happened. No, you\\'re not going to die. They know Mulder. They know who\\'s responsible for the murders. Dr. Nemman\\'s been hiding medical evidence from the beginning. He lied on the autopsy reports and now we find out about the detective. Who else would have reason to trash the lab and our rooms? I don\\'t know, I... What is going on here? Who? The detective? The boy in the hospital? The vegetable?! Billy Miles, a boy who\\'s been in a coma for the last four years, got out here and dug up these graves? This fits a profile? Peggy O\\'Dell\\'s watch stopped a couple of minutes after nine. I made a note of it when I saw the body. And the force summoned Theresa Nemman\\'s body into the woods tonight. Where are we going? Mulder, take a look at this. That kid may have killed Peggy O\\'Dell, I don\\'t believe this. It\\'s crazy! He was in the woods. This is the same stuff that I took a handful of in the forest. We lost the original sample in the fire. What else could it be? You said it yourself. You\\'re right. We\\'ll take another sample from the forest... and run a comparison before we do anything. The detective\\'s here. What do you think? Mulder, what happened? There was a light. Yes, sir. My reports are personal and subjective. I don\\'t think I\\'ve gone so far as to draw any conclusion about what I\\'ve seen. I can\\'t substantiate it, no. There were, of course, crimes committed. This is the object described by Billy Miles as a communication device. I removed it from the exumed body. Agent Mulder believes we are not alone. Hello? Y, yes. Tomorrow.'"
      ]
     },
     "execution_count": 73,
     "metadata": {},
     "output_type": "execute_result"
    }
   ],
   "source": [
    "scully_corpus[0]"
   ]
  },
  {
   "cell_type": "code",
   "execution_count": 9,
   "metadata": {},
   "outputs": [
    {
     "data": {
      "text/plain": [
       "'Agent Dana Scully. Yes, sir. Well, sir, I was recruited out of medical school. Um, my parents still think it was an act of rebellion, but, uh... I saw the F.B.I. as a place where I could distinguish myself. Yes, I am. By reputation. He\\'s an Oxford educated Psychologist, who wrote a monograph on serial killers and the occult, that helped to catch Monty Props in 1988. Generally thought of as the best analyst in the violent crimes section. He had a nickname at the academy... Spooky Mulder. I believe they have to do with unexplained phenomena. Am I to understand that you want me to debunk the X-Files project, sir? Agent Mulder. I\\'m Dana Scully, I\\'ve been assigned to work with you. Actually, I\\'m looking forward to working with you. I\\'ve heard a lot about you. If you have any doubt about my qualifications or credentials, th... Did you bother to read it? Needle punctures, maybe. An animal bite. Electrocution of some kind. It\\'s organic. I don\\'t know, is it some kind of synthetic protein? Do you have a theory? Logically, I would have to say \"no.\" The girl obviously died of something. If it was natural causes, it\\'s plausible that there was something missed in the post-mortem. If she was murdered, it\\'s plausible there was a sloppy investigation. What I find fantastic is any notion that there are answers beyond the realm of science. The answers are there. You just have to know where to look. You didn\\'t mention yesterday, this case has already been investigated. And you found something they didn\\'t. The autopsy reports of the first three victims, show no unidentified marks or tissue samples. But those reports were signed by a different medical examiner than the latest victim. Better than you expected or better that you hoped? Is the medical examiner a suspect? I don\\'t know. I\\'ve never had the pleasure. Hi. Hello. We\\'re not insinuating anything, sir. Ray Soames was the third victim. After graduating high school, he spent time in a state mental hospital treated for post-adolescent schizophrenia. Exposure. His body was found in the woods after escaping the hospital. Subject is a hundred and fifty-six centimeters in length, weighing fifty-two pounds in extremis. Corpse is in advance stages of decay and desiccation. Distinguishing features include large ocular cavities, oblate cranium... indicates subject is not human. Could you point that flash away from me, please? It\\'s mammalian. My guess is it\\'s a chimpanzee or something from the ape family, possibly an orangutan. You\\'re serious? You don\\'t honestly believe this is some kind of an extraterrestrial? This is somebody\\'s sick joke. Who is it? Pass. No... Were any of those Ray Soames\\' classmates? Are you treating any of these kids now? They\\'re here at this hospital? Would it be possible for us to talk to them? How did it happen? How did you know that girl was going to have the marks? Damn it, Mulder, cut the crap. What is going on here? What do you know about those marks? What are they? I\\'m here to solve this case, Mulder, I want the truth. By who? You don\\'t really believe that? I\\'ll buy that girl is suffering some kind of pronounced psychosis. Whether it\\'s organic or the result of those marks, I can\\'t say. But to say that they\\'ve been riding around in flying saucers, it\\'s crazy, Mulder, there is nothing to support that. There has got to be an explaination. You\\'ve got four victims. All of them died in or near the woods. They found Karen Swenson\\'s body in the forest in her pajamas, ten miles from her house. How did she get there? What were those kids doing out there in the forest? Mulder? We are conducting an investigation. Maybe it has something to do with this. It was all over the ground. I think something is going on out here, some kind of a sacrifice, maybe. What if these kids are involved in some kind of occult and that man knows something about it? What are you looking for? We lost what? Come on. No, what a minute. You\\'re saying that, that time disappeared. Time can\\'t just disappear, it\\'s, it\\'s, it\\'s a universal invariant! Great. I want you to look at something. What are they? Are you sure? Yes. I need to sit down. You never found her. What did you do? By accident? What? Who? I don\\'t understand. And they\\'re afraid of what? That, that you\\'ll leak this information? I\\'m not a part of any agenda. You\\'ve got to trust me. I\\'m here just like you, to solve this. But how do you know... The girl in the wheelchair? We need to ask you a few quest... What? They stole the corpse? There goes my computer. Theresa, your father knows about this, doesn\\'t he? About what happened. No, you\\'re not going to die. They know Mulder. They know who\\'s responsible for the murders. Dr. Nemman\\'s been hiding medical evidence from the beginning. He lied on the autopsy reports and now we find out about the detective. Who else would have reason to trash the lab and our rooms? I don\\'t know, I... What is going on here? Who? The detective? The boy in the hospital? The vegetable?! Billy Miles, a boy who\\'s been in a coma for the last four years, got out here and dug up these graves? This fits a profile? Peggy O\\'Dell\\'s watch stopped a couple of minutes after nine. I made a note of it when I saw the body. And the force summoned Theresa Nemman\\'s body into the woods tonight. Where are we going? Mulder, take a look at this. That kid may have killed Peggy O\\'Dell, I don\\'t believe this. It\\'s crazy! He was in the woods. This is the same stuff that I took a handful of in the forest. We lost the original sample in the fire. What else could it be? You said it yourself. You\\'re right. We\\'ll take another sample from the forest... and run a comparison before we do anything. The detective\\'s here. What do you think? Mulder, what happened? There was a light. Yes, sir. My reports are personal and subjective. I don\\'t think I\\'ve gone so far as to draw any conclusion about what I\\'ve seen. I can\\'t substantiate it, no. There were, of course, crimes committed. This is the object described by Billy Miles as a communication device. I removed it from the exumed body. Agent Mulder believes we are not alone. Hello? Y, yes. Tomorrow.'"
      ]
     },
     "execution_count": 9,
     "metadata": {},
     "output_type": "execute_result"
    }
   ],
   "source": [
    "scully_concat"
   ]
  },
  {
   "cell_type": "code",
   "execution_count": 10,
   "metadata": {},
   "outputs": [],
   "source": [
    "mulder_concat = (\" \").join(mulder)"
   ]
  },
  {
   "cell_type": "markdown",
   "metadata": {},
   "source": [
    "## Process all lines as one text entry "
   ]
  },
  {
   "cell_type": "markdown",
   "metadata": {},
   "source": [
    "### Lowercase"
   ]
  },
  {
   "cell_type": "code",
   "execution_count": 74,
   "metadata": {},
   "outputs": [],
   "source": [
    "lower_case = scully_corpus[0].lower()"
   ]
  },
  {
   "cell_type": "code",
   "execution_count": 75,
   "metadata": {},
   "outputs": [
    {
     "data": {
      "text/plain": [
       "\"agent dana scully. yes, sir. well, sir, i was recruited out of medical school. um, my parents still think it was an act of rebellion, but, uh... i saw the f.b.i. as a place where i could distinguish myself. yes, i am. by reputation. he's an oxford educated psychologist, who wrote a monograph on serial killers and the occult, that helped to catch monty props in 1988. generally thought of as the bes\""
      ]
     },
     "execution_count": 75,
     "metadata": {},
     "output_type": "execute_result"
    }
   ],
   "source": [
    "lower_case[:400]"
   ]
  },
  {
   "cell_type": "markdown",
   "metadata": {},
   "source": [
    "### Important words "
   ]
  },
  {
   "cell_type": "code",
   "execution_count": 87,
   "metadata": {},
   "outputs": [],
   "source": [
    "important_words = {'f.b.i.': 'fbi', 'x-files': 'xfiles', 'x-file': 'xfile'}"
   ]
  },
  {
   "cell_type": "code",
   "execution_count": 77,
   "metadata": {},
   "outputs": [],
   "source": [
    "for key in important_words.keys():\n",
    "    lower_case = lower_case.replace(key, important_words[key])"
   ]
  },
  {
   "cell_type": "code",
   "execution_count": 78,
   "metadata": {},
   "outputs": [
    {
     "data": {
      "text/plain": [
       "'agent dana scully. yes, sir. well, sir, i was recruited out of medical school. um, my parents still think it was an act of rebellion, but, uh... i saw the fbi as a place where i could distinguish myself. yes, i am. by reputation. he\\'s an oxford educated psychologist, who wrote a monograph on serial killers and the occult, that helped to catch monty props in 1988. generally thought of as the best analyst in the violent crimes section. he had a nickname at the academy... spooky mulder. i believe they have to do with unexplained phenomena. am i to understand that you want me to debunk the xfiles project, sir? agent mulder. i\\'m dana scully, i\\'ve been assigned to work with you. actually, i\\'m looking forward to working with you. i\\'ve heard a lot about you. if you have any doubt about my qualifications or credentials, th... did you bother to read it? needle punctures, maybe. an animal bite. electrocution of some kind. it\\'s organic. i don\\'t know, is it some kind of synthetic protein? do you have a theory? logically, i would have to say \"no.\" the girl obviously died of something. if it was natural causes, it\\'s plausible that there was something missed in the post-mortem. if she was murdered, it\\'s plausible there was a sloppy investigation. what i find fantastic is any notion that there are answers beyond the realm of science. the answers are there. you just have to know where to look. you didn\\'t mention yesterday, this case has already been investigated. and you found something they didn\\'t. the autopsy reports of the first three victims, show no unidentified marks or tissue samples. but those reports were signed by a different medical examiner than the latest victim. better than you expected or better that you hoped? is the medical examiner a suspect? i don\\'t know. i\\'ve never had the pleasure. hi. hello. we\\'re not insinuating anything, sir. ray soames was the third victim. after graduating high school, he spent time in a state mental hospital treated for post-adolescent schizophrenia. exposure. his body was found in the woods after escaping the hospital. subject is a hundred and fifty-six centimeters in length, weighing fifty-two pounds in extremis. corpse is in advance stages of decay and desiccation. distinguishing features include large ocular cavities, oblate cranium... indicates subject is not human. could you point that flash away from me, please? it\\'s mammalian. my guess is it\\'s a chimpanzee or something from the ape family, possibly an orangutan. you\\'re serious? you don\\'t honestly believe this is some kind of an extraterrestrial? this is somebody\\'s sick joke. who is it? pass. no... were any of those ray soames\\' classmates? are you treating any of these kids now? they\\'re here at this hospital? would it be possible for us to talk to them? how did it happen? how did you know that girl was going to have the marks? damn it, mulder, cut the crap. what is going on here? what do you know about those marks? what are they? i\\'m here to solve this case, mulder, i want the truth. by who? you don\\'t really believe that? i\\'ll buy that girl is suffering some kind of pronounced psychosis. whether it\\'s organic or the result of those marks, i can\\'t say. but to say that they\\'ve been riding around in flying saucers, it\\'s crazy, mulder, there is nothing to support that. there has got to be an explaination. you\\'ve got four victims. all of them died in or near the woods. they found karen swenson\\'s body in the forest in her pajamas, ten miles from her house. how did she get there? what were those kids doing out there in the forest? mulder? we are conducting an investigation. maybe it has something to do with this. it was all over the ground. i think something is going on out here, some kind of a sacrifice, maybe. what if these kids are involved in some kind of occult and that man knows something about it? what are you looking for? we lost what? come on. no, what a minute. you\\'re saying that, that time disappeared. time can\\'t just disappear, it\\'s, it\\'s, it\\'s a universal invariant! great. i want you to look at something. what are they? are you sure? yes. i need to sit down. you never found her. what did you do? by accident? what? who? i don\\'t understand. and they\\'re afraid of what? that, that you\\'ll leak this information? i\\'m not a part of any agenda. you\\'ve got to trust me. i\\'m here just like you, to solve this. but how do you know... the girl in the wheelchair? we need to ask you a few quest... what? they stole the corpse? there goes my computer. theresa, your father knows about this, doesn\\'t he? about what happened. no, you\\'re not going to die. they know mulder. they know who\\'s responsible for the murders. dr. nemman\\'s been hiding medical evidence from the beginning. he lied on the autopsy reports and now we find out about the detective. who else would have reason to trash the lab and our rooms? i don\\'t know, i... what is going on here? who? the detective? the boy in the hospital? the vegetable?! billy miles, a boy who\\'s been in a coma for the last four years, got out here and dug up these graves? this fits a profile? peggy o\\'dell\\'s watch stopped a couple of minutes after nine. i made a note of it when i saw the body. and the force summoned theresa nemman\\'s body into the woods tonight. where are we going? mulder, take a look at this. that kid may have killed peggy o\\'dell, i don\\'t believe this. it\\'s crazy! he was in the woods. this is the same stuff that i took a handful of in the forest. we lost the original sample in the fire. what else could it be? you said it yourself. you\\'re right. we\\'ll take another sample from the forest... and run a comparison before we do anything. the detective\\'s here. what do you think? mulder, what happened? there was a light. yes, sir. my reports are personal and subjective. i don\\'t think i\\'ve gone so far as to draw any conclusion about what i\\'ve seen. i can\\'t substantiate it, no. there were, of course, crimes committed. this is the object described by billy miles as a communication device. i removed it from the exumed body. agent mulder believes we are not alone. hello? y, yes. tomorrow.'"
      ]
     },
     "execution_count": 78,
     "metadata": {},
     "output_type": "execute_result"
    }
   ],
   "source": [
    "lower_case"
   ]
  },
  {
   "cell_type": "markdown",
   "metadata": {},
   "source": [
    "### Remove punctuation "
   ]
  },
  {
   "cell_type": "markdown",
   "metadata": {},
   "source": [
    "Replace punctuation with a whitespace, for easier removal of stopwords later like I've (stopwords that appear as separate entries in the corpus - for I've it appears as 'i' and 've' in the stopword corpus). "
   ]
  },
  {
   "cell_type": "code",
   "execution_count": 38,
   "metadata": {},
   "outputs": [],
   "source": [
    "import re\n",
    "import string\n",
    "punc_removed = re.sub('[%s]' % re.escape(string.punctuation), ' ', lower_case)\n",
    "# remove extra whitespaces\n",
    "# regex for 2 or more whitespaces, replace with 1 whitespace"
   ]
  },
  {
   "cell_type": "code",
   "execution_count": 39,
   "metadata": {},
   "outputs": [
    {
     "data": {
      "text/plain": [
       "'agent dana scully  yes  sir  well  sir  i was recruited out of medical school  um  my parents still '"
      ]
     },
     "execution_count": 39,
     "metadata": {},
     "output_type": "execute_result"
    }
   ],
   "source": [
    "punc_removed[:100]"
   ]
  },
  {
   "cell_type": "markdown",
   "metadata": {},
   "source": [
    "### Remove words with digits "
   ]
  },
  {
   "cell_type": "code",
   "execution_count": 40,
   "metadata": {},
   "outputs": [],
   "source": [
    "no_digits = re.sub('\\w*\\d\\w*', '', punc_removed)"
   ]
  },
  {
   "cell_type": "code",
   "execution_count": 41,
   "metadata": {},
   "outputs": [
    {
     "data": {
      "text/plain": [
       "'agent dana scully  yes  sir  well  sir  i was recruited out of medical school  um  my parents still think it was an act of rebellion  but  uh    i saw the f b i  as a place where i could distinguish myself  yes  i am  by reputation  he s an oxford educated psychologist  who wrote a monograph on serial killers and the occult  that helped to catch monty props in   generally thought of as the best an'"
      ]
     },
     "execution_count": 41,
     "metadata": {},
     "output_type": "execute_result"
    }
   ],
   "source": [
    "no_digits[:400]"
   ]
  },
  {
   "cell_type": "markdown",
   "metadata": {},
   "source": [
    "### Replace 2 or more whitespaces with a single space."
   ]
  },
  {
   "cell_type": "code",
   "execution_count": 42,
   "metadata": {},
   "outputs": [],
   "source": [
    "space_removed = \" \".join(no_digits.split())"
   ]
  },
  {
   "cell_type": "code",
   "execution_count": 43,
   "metadata": {},
   "outputs": [
    {
     "data": {
      "text/plain": [
       "'agent dana scully yes sir well sir i was recruited out of medical school um my parents still think it was an act of rebellion but uh i saw the f b i as a place where i could distinguish myself yes i am by reputation he s an oxford educated psychologist who wrote a monograph on serial killers and the occult that helped to catch monty props in generally thought of as the best analyst in the violent '"
      ]
     },
     "execution_count": 43,
     "metadata": {},
     "output_type": "execute_result"
    }
   ],
   "source": [
    "space_removed[:400]"
   ]
  },
  {
   "cell_type": "markdown",
   "metadata": {},
   "source": [
    "### Stem & Stopwords"
   ]
  },
  {
   "cell_type": "markdown",
   "metadata": {},
   "source": [
    "Stopwords can be removed as part of count vectorizer, but we'll do it here separately. "
   ]
  },
  {
   "cell_type": "code",
   "execution_count": 92,
   "metadata": {},
   "outputs": [],
   "source": [
    "my_stopwords = stopwords.words('english')"
   ]
  },
  {
   "cell_type": "code",
   "execution_count": 93,
   "metadata": {},
   "outputs": [],
   "source": [
    "stemmer = nltk.stem.porter.PorterStemmer()"
   ]
  },
  {
   "cell_type": "code",
   "execution_count": 102,
   "metadata": {},
   "outputs": [],
   "source": [
    "stemmed_text = []\n",
    "for word in space_removed.split():\n",
    "    if word not in my_stopwords: \n",
    "        word_stem = stemmer.stem(word)\n",
    "        stemmed_text.append(word_stem)\n",
    "stemmed_text = (' ').join(stemmed_text)"
   ]
  },
  {
   "cell_type": "code",
   "execution_count": 103,
   "metadata": {},
   "outputs": [
    {
     "data": {
      "text/plain": [
       "'agent dana sculli ye sir well sir recruit medic school um parent still think act rebellion uh saw f b place could distinguish ye reput oxford educ psychologist wrote monograph serial killer occult help catch monti prop gener thought best analyst violent crime section nicknam academi spooki mulder believ unexplain phenomena understand want debunk x file project sir agent mulder dana sculli assign work actual look forward work heard lot doubt qualif credenti th bother read needl punctur mayb anim bite electrocut kind organ know kind synthet protein theori logic would say girl obvious die someth natur caus plausibl someth miss post mortem murder plausibl sloppi investig find fantast notion answer beyond realm scienc answer know look mention yesterday case alreadi investig found someth autopsi report first three victim show unidentifi mark tissu sampl report sign differ medic examin latest victim better expect better hope medic examin suspect know never pleasur hi hello insinu anyth sir ray soam third victim graduat high school spent time state mental hospit treat post adolesc schizophrenia exposur bodi found wood escap hospit subject hundr fifti six centimet length weigh fifti two pound extremi corps advanc stage decay desicc distinguish featur includ larg ocular caviti oblat cranium indic subject human could point flash away pleas mammalian guess chimpanze someth ape famili possibl orangutan seriou honestli believ kind extraterrestri somebodi sick joke pass ray soam classmat treat kid hospit would possibl us talk happen know girl go mark damn mulder cut crap go know mark solv case mulder want truth realli believ buy girl suffer kind pronounc psychosi whether organ result mark say say ride around fli saucer crazi mulder noth support got explain got four victim die near wood found karen swenson bodi forest pajama ten mile hous get kid forest mulder conduct investig mayb someth ground think someth go kind sacrific mayb kid involv kind occult man know someth look lost come minut say time disappear time disappear univers invari great want look someth sure ye need sit never found accid understand afraid leak inform part agenda got trust like solv know girl wheelchair need ask quest stole corps goe comput theresa father know happen go die know mulder know respons murder dr nemman hide medic evid begin lie autopsi report find detect els would reason trash lab room know go detect boy hospit veget billi mile boy coma last four year got dug grave fit profil peggi dell watch stop coupl minut nine made note saw bodi forc summon theresa nemman bodi wood tonight go mulder take look kid may kill peggi dell believ crazi wood stuff took hand forest lost origin sampl fire els could said right take anoth sampl forest run comparison anyth detect think mulder happen light ye sir report person subject think gone far draw conclus seen substanti cours crime commit object describ billi mile commun devic remov exum bodi agent mulder believ alon hello ye tomorrow'"
      ]
     },
     "execution_count": 103,
     "metadata": {},
     "output_type": "execute_result"
    }
   ],
   "source": [
    "stemmed_text"
   ]
  },
  {
   "cell_type": "markdown",
   "metadata": {},
   "source": [
    "## Preprocessing pipeline "
   ]
  },
  {
   "cell_type": "code",
   "execution_count": 114,
   "metadata": {},
   "outputs": [],
   "source": [
    "import re\n",
    "import string\n",
    "special_words = {'f.b.i.': 'fbi', 'x-files': 'xfiles', 'x-file': 'xfile'}\n",
    "\n",
    "def clean_text(corpus):\n",
    "    cleaned_text = []\n",
    "    for text in corpus:\n",
    "        lower_case = text.lower()\n",
    "        for key in special_words.keys():\n",
    "            preserved_words = lower_case.replace(key, special_words[key])\n",
    "        punc_removed = re.sub('[%s]' % re.escape(string.punctuation), ' ', preserved_words)\n",
    "        no_digits = re.sub('\\w*\\d\\w*', '', punc_removed)\n",
    "        space_removed = \" \".join(no_digits.split())\n",
    "        stemmed_text = []\n",
    "        for word in space_removed.split():\n",
    "            if word not in my_stopwords: \n",
    "                word_stem = stemmer.stem(word)\n",
    "                stemmed_text.append(word_stem)\n",
    "        stemmed_text = (' ').join(stemmed_text)\n",
    "        cleaned_text.append(stemmed_text)\n",
    "    return(cleaned_text)"
   ]
  },
  {
   "cell_type": "code",
   "execution_count": 115,
   "metadata": {},
   "outputs": [],
   "source": [
    "scully_cleaned = clean_text(scully_corpus)"
   ]
  },
  {
   "cell_type": "code",
   "execution_count": 116,
   "metadata": {},
   "outputs": [],
   "source": [
    "mulder_cleaned = clean_text(mulder_corpus)"
   ]
  },
  {
   "cell_type": "code",
   "execution_count": 117,
   "metadata": {},
   "outputs": [
    {
     "data": {
      "text/plain": [
       "True"
      ]
     },
     "execution_count": 117,
     "metadata": {},
     "output_type": "execute_result"
    }
   ],
   "source": [
    "len(scully_cleaned) == len(scully_corpus)"
   ]
  },
  {
   "cell_type": "code",
   "execution_count": 122,
   "metadata": {},
   "outputs": [
    {
     "data": {
      "text/plain": [
       "'still get us thank happen barnett theori sort fox guard chicken coop never caught happen barnett think escap sure mulder got clear shot book mulder shoot barnett probabl lot sentenc judg gave barnett henderson come must clever copycat pull print barnett lot time hand prison mayb plan someon outsid plan get right thing mulder sorri fax got phone prison call hunch john barnett die heart attack right least say death certif well fax medic record barnett admit prison infirmari infect right hand indic diagnosi coronari complic fact physic six month earlier given clean bill health left everyth must known better pretti well death certif doctor could tell barnett dead go mean ghost john barnett hello yeah minut right right lost barnett mean hope guy brought fine tooth comb want everi piec lint collect analyz noth turn run sorri mulder still hundr percent sure tri find listen accord doctor ridley sign barnett death certif offici doctor sinc membership expir renow state maryland revok medic licens flagrant research malpractic misus govern grant right feder journal nation institut health conduct experi young children afflict diseas call progeria fatal doctor ridley eventu lose medic licens afraid colleagu doctor ridley drop face earth revers age listen say mulder scienc fiction ridley note human trial n h indic see age inevit opportunist diseas diseas could prevent revers even chang chemic cue trigger certain gene howev evid whatsoev ridley work yield result theori hope contrari hold valid diseas kill kid suffer progeria materi insul neuron bodi afraid ask kind hand grow unbeliev knew theori pan privat answer machin least use ran shower morn heard someon dial privat code replay messag last night doctor ridley could sworn someon apart ridley knock thought mistaken nois morn took print came john barnett left index obliqu undersid unit uh mother call reason meet friend cello recit includ diagram theater six front entranc four backstag first time ever play target gun like somebodi kick rib barnett consciou mulder know book lost think destroy chanc somehow someday somebodi find'"
      ]
     },
     "execution_count": 122,
     "metadata": {},
     "output_type": "execute_result"
    }
   ],
   "source": [
    "scully_cleaned[15]"
   ]
  },
  {
   "cell_type": "markdown",
   "metadata": {},
   "source": [
    "# Basic Counts"
   ]
  },
  {
   "cell_type": "markdown",
   "metadata": {},
   "source": [
    "## Top words for Scully and Mulder over the whole show "
   ]
  },
  {
   "cell_type": "markdown",
   "metadata": {},
   "source": [
    "Append all the episodes together and see what each character says most often. "
   ]
  },
  {
   "cell_type": "markdown",
   "metadata": {},
   "source": [
    "## Adding labels to documents for classification - testing if Scully or Mulder said it "
   ]
  },
  {
   "cell_type": "markdown",
   "metadata": {},
   "source": [
    "Make a function that gets the length of the scully or mulder list and creates an array with the data labels for each record. "
   ]
  },
  {
   "cell_type": "code",
   "execution_count": 71,
   "metadata": {},
   "outputs": [],
   "source": [
    "import numpy as np\n",
    "\n",
    "label_dict = {'Scully': 0, 'Mulder': 1}\n",
    "\n",
    "def get_labels(list_of_docs, character):\n",
    "    number_of_docs = len(list_of_docs)\n",
    "    labels = np.array([label_dict[character]] * number_of_docs)\n",
    "    return labels"
   ]
  },
  {
   "cell_type": "code",
   "execution_count": 72,
   "metadata": {},
   "outputs": [],
   "source": [
    "scully_list = [scully_concat]"
   ]
  },
  {
   "cell_type": "code",
   "execution_count": 73,
   "metadata": {},
   "outputs": [],
   "source": [
    "scully_list.append('test')"
   ]
  },
  {
   "cell_type": "code",
   "execution_count": 74,
   "metadata": {},
   "outputs": [
    {
     "data": {
      "text/plain": [
       "array([0, 0])"
      ]
     },
     "execution_count": 74,
     "metadata": {},
     "output_type": "execute_result"
    }
   ],
   "source": [
    "get_labels(scully_list, 'Scully')"
   ]
  },
  {
   "cell_type": "markdown",
   "metadata": {},
   "source": [
    "#### Count vectorize "
   ]
  },
  {
   "cell_type": "code",
   "execution_count": 47,
   "metadata": {},
   "outputs": [],
   "source": [
    "cv = CountVectorizer(lowercase=True, stop_words='english')\n",
    "cv_data = cv.fit_transform([scully_concat])"
   ]
  },
  {
   "cell_type": "code",
   "execution_count": 48,
   "metadata": {},
   "outputs": [],
   "source": [
    "scully_count_vect = pd.DataFrame(cv_data.toarray(), columns=cv.get_feature_names())"
   ]
  },
  {
   "cell_type": "code",
   "execution_count": 49,
   "metadata": {},
   "outputs": [
    {
     "data": {
      "text/html": [
       "<div>\n",
       "<style scoped>\n",
       "    .dataframe tbody tr th:only-of-type {\n",
       "        vertical-align: middle;\n",
       "    }\n",
       "\n",
       "    .dataframe tbody tr th {\n",
       "        vertical-align: top;\n",
       "    }\n",
       "\n",
       "    .dataframe thead th {\n",
       "        text-align: right;\n",
       "    }\n",
       "</style>\n",
       "<table border=\"1\" class=\"dataframe\">\n",
       "  <thead>\n",
       "    <tr style=\"text-align: right;\">\n",
       "      <th></th>\n",
       "      <th>1988</th>\n",
       "      <th>academy</th>\n",
       "      <th>accident</th>\n",
       "      <th>act</th>\n",
       "      <th>actually</th>\n",
       "      <th>adolescent</th>\n",
       "      <th>advance</th>\n",
       "      <th>afraid</th>\n",
       "      <th>agenda</th>\n",
       "      <th>agent</th>\n",
       "      <th>...</th>\n",
       "      <th>watch</th>\n",
       "      <th>weighing</th>\n",
       "      <th>wheelchair</th>\n",
       "      <th>woods</th>\n",
       "      <th>work</th>\n",
       "      <th>working</th>\n",
       "      <th>wrote</th>\n",
       "      <th>years</th>\n",
       "      <th>yes</th>\n",
       "      <th>yesterday</th>\n",
       "    </tr>\n",
       "  </thead>\n",
       "  <tbody>\n",
       "    <tr>\n",
       "      <th>0</th>\n",
       "      <td>1</td>\n",
       "      <td>1</td>\n",
       "      <td>1</td>\n",
       "      <td>1</td>\n",
       "      <td>1</td>\n",
       "      <td>1</td>\n",
       "      <td>1</td>\n",
       "      <td>1</td>\n",
       "      <td>1</td>\n",
       "      <td>3</td>\n",
       "      <td>...</td>\n",
       "      <td>1</td>\n",
       "      <td>1</td>\n",
       "      <td>1</td>\n",
       "      <td>4</td>\n",
       "      <td>1</td>\n",
       "      <td>1</td>\n",
       "      <td>1</td>\n",
       "      <td>1</td>\n",
       "      <td>5</td>\n",
       "      <td>1</td>\n",
       "    </tr>\n",
       "  </tbody>\n",
       "</table>\n",
       "<p>1 rows × 310 columns</p>\n",
       "</div>"
      ],
      "text/plain": [
       "   1988  academy  accident  act  actually  adolescent  advance  afraid  \\\n",
       "0     1        1         1    1         1           1        1       1   \n",
       "\n",
       "   agenda  agent    ...      watch  weighing  wheelchair  woods  work  \\\n",
       "0       1      3    ...          1         1           1      4     1   \n",
       "\n",
       "   working  wrote  years  yes  yesterday  \n",
       "0        1      1      1    5          1  \n",
       "\n",
       "[1 rows x 310 columns]"
      ]
     },
     "execution_count": 49,
     "metadata": {},
     "output_type": "execute_result"
    }
   ],
   "source": [
    "scully_count_vect"
   ]
  },
  {
   "cell_type": "code",
   "execution_count": 57,
   "metadata": {},
   "outputs": [
    {
     "data": {
      "text/html": [
       "<div>\n",
       "<style scoped>\n",
       "    .dataframe tbody tr th:only-of-type {\n",
       "        vertical-align: middle;\n",
       "    }\n",
       "\n",
       "    .dataframe tbody tr th {\n",
       "        vertical-align: top;\n",
       "    }\n",
       "\n",
       "    .dataframe thead th {\n",
       "        text-align: right;\n",
       "    }\n",
       "</style>\n",
       "<table border=\"1\" class=\"dataframe\">\n",
       "  <thead>\n",
       "    <tr style=\"text-align: right;\">\n",
       "      <th></th>\n",
       "      <th>mulder</th>\n",
       "      <th>know</th>\n",
       "      <th>ve</th>\n",
       "      <th>don</th>\n",
       "      <th>going</th>\n",
       "      <th>kind</th>\n",
       "      <th>yes</th>\n",
       "      <th>did</th>\n",
       "      <th>body</th>\n",
       "      <th>sir</th>\n",
       "      <th>...</th>\n",
       "      <th>heard</th>\n",
       "      <th>helped</th>\n",
       "      <th>hi</th>\n",
       "      <th>hiding</th>\n",
       "      <th>high</th>\n",
       "      <th>honestly</th>\n",
       "      <th>hoped</th>\n",
       "      <th>house</th>\n",
       "      <th>human</th>\n",
       "      <th>yesterday</th>\n",
       "    </tr>\n",
       "  </thead>\n",
       "  <tbody>\n",
       "    <tr>\n",
       "      <th>0</th>\n",
       "      <td>10</td>\n",
       "      <td>9</td>\n",
       "      <td>8</td>\n",
       "      <td>8</td>\n",
       "      <td>6</td>\n",
       "      <td>6</td>\n",
       "      <td>5</td>\n",
       "      <td>5</td>\n",
       "      <td>5</td>\n",
       "      <td>5</td>\n",
       "      <td>...</td>\n",
       "      <td>1</td>\n",
       "      <td>1</td>\n",
       "      <td>1</td>\n",
       "      <td>1</td>\n",
       "      <td>1</td>\n",
       "      <td>1</td>\n",
       "      <td>1</td>\n",
       "      <td>1</td>\n",
       "      <td>1</td>\n",
       "      <td>1</td>\n",
       "    </tr>\n",
       "  </tbody>\n",
       "</table>\n",
       "<p>1 rows × 310 columns</p>\n",
       "</div>"
      ],
      "text/plain": [
       "   mulder  know  ve  don  going  kind  yes  did  body  sir    ...      heard  \\\n",
       "0      10     9   8    8      6     6    5    5     5    5    ...          1   \n",
       "\n",
       "   helped  hi  hiding  high  honestly  hoped  house  human  yesterday  \n",
       "0       1   1       1     1         1      1      1      1          1  \n",
       "\n",
       "[1 rows x 310 columns]"
      ]
     },
     "execution_count": 57,
     "metadata": {},
     "output_type": "execute_result"
    }
   ],
   "source": [
    "scully_count_vect.sort_values(by=0, axis=1, ascending=False)"
   ]
  },
  {
   "cell_type": "code",
   "execution_count": 58,
   "metadata": {},
   "outputs": [
    {
     "data": {
      "text/html": [
       "<div>\n",
       "<style scoped>\n",
       "    .dataframe tbody tr th:only-of-type {\n",
       "        vertical-align: middle;\n",
       "    }\n",
       "\n",
       "    .dataframe tbody tr th {\n",
       "        vertical-align: top;\n",
       "    }\n",
       "\n",
       "    .dataframe thead th {\n",
       "        text-align: right;\n",
       "    }\n",
       "</style>\n",
       "<table border=\"1\" class=\"dataframe\">\n",
       "  <thead>\n",
       "    <tr style=\"text-align: right;\">\n",
       "      <th></th>\n",
       "      <th>abducted</th>\n",
       "      <th>abduction</th>\n",
       "      <th>able</th>\n",
       "      <th>academy</th>\n",
       "      <th>access</th>\n",
       "      <th>actually</th>\n",
       "      <th>agenda</th>\n",
       "      <th>ah</th>\n",
       "      <th>alien</th>\n",
       "      <th>allowed</th>\n",
       "      <th>...</th>\n",
       "      <th>wonder</th>\n",
       "      <th>wondering</th>\n",
       "      <th>work</th>\n",
       "      <th>worked</th>\n",
       "      <th>write</th>\n",
       "      <th>ya</th>\n",
       "      <th>yeah</th>\n",
       "      <th>year</th>\n",
       "      <th>yes</th>\n",
       "      <th>zipcode</th>\n",
       "    </tr>\n",
       "  </thead>\n",
       "  <tbody>\n",
       "    <tr>\n",
       "      <th>0</th>\n",
       "      <td>1</td>\n",
       "      <td>2</td>\n",
       "      <td>3</td>\n",
       "      <td>1</td>\n",
       "      <td>1</td>\n",
       "      <td>1</td>\n",
       "      <td>1</td>\n",
       "      <td>1</td>\n",
       "      <td>3</td>\n",
       "      <td>1</td>\n",
       "      <td>...</td>\n",
       "      <td>1</td>\n",
       "      <td>1</td>\n",
       "      <td>2</td>\n",
       "      <td>1</td>\n",
       "      <td>1</td>\n",
       "      <td>1</td>\n",
       "      <td>5</td>\n",
       "      <td>1</td>\n",
       "      <td>2</td>\n",
       "      <td>1</td>\n",
       "    </tr>\n",
       "  </tbody>\n",
       "</table>\n",
       "<p>1 rows × 410 columns</p>\n",
       "</div>"
      ],
      "text/plain": [
       "   abducted  abduction  able  academy  access  actually  agenda  ah  alien  \\\n",
       "0         1          2     3        1       1         1       1   1      3   \n",
       "\n",
       "   allowed   ...     wonder  wondering  work  worked  write  ya  yeah  year  \\\n",
       "0        1   ...          1          1     2       1      1   1     5     1   \n",
       "\n",
       "   yes  zipcode  \n",
       "0    2        1  \n",
       "\n",
       "[1 rows x 410 columns]"
      ]
     },
     "execution_count": 58,
     "metadata": {},
     "output_type": "execute_result"
    }
   ],
   "source": [
    "cv = CountVectorizer(lowercase=True, stop_words='english')\n",
    "cv_data = cv.fit_transform([mulder_concat])\n",
    "mulder_count_vect = pd.DataFrame(cv_data.toarray(), columns=cv.get_feature_names())\n",
    "mulder_count_vect"
   ]
  },
  {
   "cell_type": "code",
   "execution_count": 62,
   "metadata": {},
   "outputs": [
    {
     "data": {
      "text/plain": [
       "['abducted',\n",
       " 'abduction',\n",
       " 'able',\n",
       " 'academy',\n",
       " 'access',\n",
       " 'actually',\n",
       " 'agenda',\n",
       " 'ah',\n",
       " 'alien',\n",
       " 'allowed',\n",
       " 'amazing',\n",
       " 'answers',\n",
       " 'apart',\n",
       " 'applying',\n",
       " 'aptitude',\n",
       " 'arrange',\n",
       " 'arranged',\n",
       " 'attempts',\n",
       " 'authorities',\n",
       " 'autopsy',\n",
       " 'aware',\n",
       " 'beats',\n",
       " 'bedpan',\n",
       " 'behavioural',\n",
       " 'better',\n",
       " 'big',\n",
       " 'billy',\n",
       " 'bites',\n",
       " 'blocking',\n",
       " 'blood',\n",
       " 'bodies',\n",
       " 'body',\n",
       " 'bound',\n",
       " 'boy',\n",
       " 'boys',\n",
       " 'brakes',\n",
       " 'bright',\n",
       " 'bureau',\n",
       " 'buried',\n",
       " 'called',\n",
       " 'calls',\n",
       " 'came',\n",
       " 'campfire',\n",
       " 'care',\n",
       " 'case',\n",
       " 'cases',\n",
       " 'cause',\n",
       " 'causing',\n",
       " 'cemetery',\n",
       " 'changed',\n",
       " 'chemistry',\n",
       " 'circumstances',\n",
       " 'city',\n",
       " 'class',\n",
       " 'classified',\n",
       " 'clock',\n",
       " 'close',\n",
       " 'closely',\n",
       " 'come',\n",
       " 'committed',\n",
       " 'comprehend',\n",
       " 'confessed',\n",
       " 'confirm',\n",
       " 'congress',\n",
       " 'connection',\n",
       " 'connections',\n",
       " 'continue',\n",
       " 'control',\n",
       " 'controls',\n",
       " 'convention',\n",
       " 'corpse',\n",
       " 'couldn',\n",
       " 'county',\n",
       " 'coventional',\n",
       " 'crazy',\n",
       " 'crime',\n",
       " 'crimes',\n",
       " 'criminal',\n",
       " 'cursory',\n",
       " 'damn',\n",
       " 'day',\n",
       " 'death',\n",
       " 'deaths',\n",
       " 'deep',\n",
       " 'degree',\n",
       " 'dell',\n",
       " 'destroy',\n",
       " 'detective',\n",
       " 'did',\n",
       " 'didn',\n",
       " 'die',\n",
       " 'disappeared',\n",
       " 'doctor',\n",
       " 'does',\n",
       " 'doing',\n",
       " 'don',\n",
       " 'doubts',\n",
       " 'dr',\n",
       " 'dug',\n",
       " 'dump',\n",
       " 'early',\n",
       " 'easy',\n",
       " 'eaten',\n",
       " 'eh',\n",
       " 'england',\n",
       " 'enjoyed',\n",
       " 'er',\n",
       " 'eventually',\n",
       " 'everyday',\n",
       " 'evidence',\n",
       " 'exam',\n",
       " 'examination',\n",
       " 'examiner',\n",
       " 'exhume',\n",
       " 'explain',\n",
       " 'explanation',\n",
       " 'exposure',\n",
       " 'expression',\n",
       " 'facility',\n",
       " 'facts',\n",
       " 'failed',\n",
       " 'family',\n",
       " 'fantastic',\n",
       " 'fascinated',\n",
       " 'father',\n",
       " 'fbi',\n",
       " 'female',\n",
       " 'figure',\n",
       " 'file',\n",
       " 'filed',\n",
       " 'files',\n",
       " 'finally',\n",
       " 'fits',\n",
       " 'flash',\n",
       " 'foot',\n",
       " 'forest',\n",
       " 'fourth',\n",
       " 'garbage',\n",
       " 'genetic',\n",
       " 'girl',\n",
       " 'going',\n",
       " 'gone',\n",
       " 'gonna',\n",
       " 'good',\n",
       " 'goodbye',\n",
       " 'got',\n",
       " 'gotta',\n",
       " 'gotten',\n",
       " 'government',\n",
       " 'graduating',\n",
       " 'grave',\n",
       " 'gravedigging',\n",
       " 'graves',\n",
       " 'great',\n",
       " 'guess',\n",
       " 'guy',\n",
       " 'hadn',\n",
       " 'halloween',\n",
       " 'hands',\n",
       " 'happen',\n",
       " 'happened',\n",
       " 'happening',\n",
       " 'haven',\n",
       " 'heitz',\n",
       " 'help',\n",
       " 'hi',\n",
       " 'higher',\n",
       " 'highly',\n",
       " 'highway',\n",
       " 'hold',\n",
       " 'hope',\n",
       " 'hours',\n",
       " 'human',\n",
       " 'hundreds',\n",
       " 'hurt',\n",
       " 'hypnosis',\n",
       " 'impression',\n",
       " 'impulse',\n",
       " 'incredible',\n",
       " 'information',\n",
       " 'informed',\n",
       " 'intentions',\n",
       " 'involved',\n",
       " 'isn',\n",
       " 'july',\n",
       " 'just',\n",
       " 'karen',\n",
       " 'kids',\n",
       " 'killed',\n",
       " 'kind',\n",
       " 'know',\n",
       " 'known',\n",
       " 'knows',\n",
       " 'lab',\n",
       " 'laugh',\n",
       " 'leave',\n",
       " 'lemon',\n",
       " 'let',\n",
       " 'level',\n",
       " 'light',\n",
       " 'like',\n",
       " 'liked',\n",
       " 'little',\n",
       " 'll',\n",
       " 'local',\n",
       " 'locked',\n",
       " 'long',\n",
       " 'longer',\n",
       " 'look',\n",
       " 'looked',\n",
       " 'lost',\n",
       " 'lot',\n",
       " 'love',\n",
       " 'lucky',\n",
       " 'ma',\n",
       " 'makes',\n",
       " 'making',\n",
       " 'man',\n",
       " 'marks',\n",
       " 'match',\n",
       " 'matters',\n",
       " 'maybe',\n",
       " 'mean',\n",
       " 'medical',\n",
       " 'memories',\n",
       " 'miles',\n",
       " 'minutes',\n",
       " 'missing',\n",
       " 'mmm',\n",
       " 'models',\n",
       " 'morning',\n",
       " 'mosquito',\n",
       " 'murders',\n",
       " 'mutation',\n",
       " 'mysterious',\n",
       " 'named',\n",
       " 'natural',\n",
       " 'need',\n",
       " 'needed',\n",
       " 'nice',\n",
       " 'night',\n",
       " 'nose',\n",
       " 'noticed',\n",
       " 'obviously',\n",
       " 'occult',\n",
       " 'offer',\n",
       " 'office',\n",
       " 'oh',\n",
       " 'okay',\n",
       " 'old',\n",
       " 'order',\n",
       " 'oregon',\n",
       " 'outside',\n",
       " 'paperwork',\n",
       " 'paralyzed',\n",
       " 'paranormal',\n",
       " 'pardon',\n",
       " 'past',\n",
       " 'pay',\n",
       " 'peggy',\n",
       " 'people',\n",
       " 'person',\n",
       " 'phenomenon',\n",
       " 'phone',\n",
       " 'physics',\n",
       " 'pictures',\n",
       " 'place',\n",
       " 'plausibility',\n",
       " 'pleaded',\n",
       " 'plenty',\n",
       " 'power',\n",
       " 'presence',\n",
       " 'pretty',\n",
       " 'probably',\n",
       " 'produce',\n",
       " 'profile',\n",
       " 'protecting',\n",
       " 'question',\n",
       " 'ran',\n",
       " 'ray',\n",
       " 'raymon',\n",
       " 'rays',\n",
       " 'read',\n",
       " 'ready',\n",
       " 'really',\n",
       " 'reason',\n",
       " 'recall',\n",
       " 'recent',\n",
       " 'reclassified',\n",
       " 'recruited',\n",
       " 'regarded',\n",
       " 'regression',\n",
       " 'remember',\n",
       " 'rememeber',\n",
       " 'report',\n",
       " 'reports',\n",
       " 'repressed',\n",
       " 'research',\n",
       " 'respond',\n",
       " 'ridiculous',\n",
       " 'right',\n",
       " 'room',\n",
       " 'run',\n",
       " 'running',\n",
       " 'said',\n",
       " 'salmon',\n",
       " 'sample',\n",
       " 'samples',\n",
       " 'say',\n",
       " 'saying',\n",
       " 'scene',\n",
       " 'school',\n",
       " 'science',\n",
       " 'scientific',\n",
       " 'screams',\n",
       " 'scully',\n",
       " 'seen',\n",
       " 'sent',\n",
       " 'seven',\n",
       " 'shaking',\n",
       " 'sightings',\n",
       " 'sister',\n",
       " 'sleep',\n",
       " 'soames',\n",
       " 'son',\n",
       " 'soon',\n",
       " 'sorry',\n",
       " 'spent',\n",
       " 'spielberg',\n",
       " 'spy',\n",
       " 'squeamish',\n",
       " 'started',\n",
       " 'steering',\n",
       " 'steven',\n",
       " 'stopped',\n",
       " 'stuck',\n",
       " 'stuff',\n",
       " 'substance',\n",
       " 'suddenly',\n",
       " 'summers',\n",
       " 'summoned',\n",
       " 'summons',\n",
       " 'sure',\n",
       " 'surely',\n",
       " 'surrounding',\n",
       " 'swenson',\n",
       " 'taken',\n",
       " 'taking',\n",
       " 'talk',\n",
       " 'talked',\n",
       " 'teach',\n",
       " 'telling',\n",
       " 'test',\n",
       " 'thank',\n",
       " 'theories',\n",
       " 'theresa',\n",
       " 'thing',\n",
       " 'think',\n",
       " 'thirteen',\n",
       " 'tick',\n",
       " 'till',\n",
       " 'time',\n",
       " 'tissue',\n",
       " 'told',\n",
       " 'tomorrow',\n",
       " 'took',\n",
       " 'tore',\n",
       " 'townsfolk',\n",
       " 'toxicology',\n",
       " 'treat',\n",
       " 'truck',\n",
       " 'truth',\n",
       " 'try',\n",
       " 'trying',\n",
       " 'turn',\n",
       " 'turned',\n",
       " 'twist',\n",
       " 'type',\n",
       " 'ufo',\n",
       " 'uh',\n",
       " 'unable',\n",
       " 'undergraduate',\n",
       " 'understand',\n",
       " 'unusual',\n",
       " 'unwanted',\n",
       " 'vacation',\n",
       " 've',\n",
       " 'victims',\n",
       " 'visit',\n",
       " 'want',\n",
       " 'wants',\n",
       " 'warm',\n",
       " 'watch',\n",
       " 'watching',\n",
       " 'week',\n",
       " 'went',\n",
       " 'werber',\n",
       " 'wheelchair',\n",
       " 'wisdom',\n",
       " 'won',\n",
       " 'wonder',\n",
       " 'wondering',\n",
       " 'work',\n",
       " 'worked',\n",
       " 'write',\n",
       " 'ya',\n",
       " 'yeah',\n",
       " 'year',\n",
       " 'yes',\n",
       " 'zipcode']"
      ]
     },
     "execution_count": 62,
     "metadata": {},
     "output_type": "execute_result"
    }
   ],
   "source": [
    "list(mulder_count_vect.columns)"
   ]
  },
  {
   "cell_type": "code",
   "execution_count": 59,
   "metadata": {},
   "outputs": [
    {
     "data": {
      "text/html": [
       "<div>\n",
       "<style scoped>\n",
       "    .dataframe tbody tr th:only-of-type {\n",
       "        vertical-align: middle;\n",
       "    }\n",
       "\n",
       "    .dataframe tbody tr th {\n",
       "        vertical-align: top;\n",
       "    }\n",
       "\n",
       "    .dataframe thead th {\n",
       "        text-align: right;\n",
       "    }\n",
       "</style>\n",
       "<table border=\"1\" class=\"dataframe\">\n",
       "  <thead>\n",
       "    <tr style=\"text-align: right;\">\n",
       "      <th></th>\n",
       "      <th>know</th>\n",
       "      <th>scully</th>\n",
       "      <th>ve</th>\n",
       "      <th>think</th>\n",
       "      <th>billy</th>\n",
       "      <th>just</th>\n",
       "      <th>did</th>\n",
       "      <th>oh</th>\n",
       "      <th>night</th>\n",
       "      <th>yeah</th>\n",
       "      <th>...</th>\n",
       "      <th>hadn</th>\n",
       "      <th>guy</th>\n",
       "      <th>great</th>\n",
       "      <th>graves</th>\n",
       "      <th>gravedigging</th>\n",
       "      <th>grave</th>\n",
       "      <th>graduating</th>\n",
       "      <th>gotten</th>\n",
       "      <th>gotta</th>\n",
       "      <th>zipcode</th>\n",
       "    </tr>\n",
       "  </thead>\n",
       "  <tbody>\n",
       "    <tr>\n",
       "      <th>0</th>\n",
       "      <td>16</td>\n",
       "      <td>11</td>\n",
       "      <td>11</td>\n",
       "      <td>8</td>\n",
       "      <td>7</td>\n",
       "      <td>6</td>\n",
       "      <td>6</td>\n",
       "      <td>6</td>\n",
       "      <td>5</td>\n",
       "      <td>5</td>\n",
       "      <td>...</td>\n",
       "      <td>1</td>\n",
       "      <td>1</td>\n",
       "      <td>1</td>\n",
       "      <td>1</td>\n",
       "      <td>1</td>\n",
       "      <td>1</td>\n",
       "      <td>1</td>\n",
       "      <td>1</td>\n",
       "      <td>1</td>\n",
       "      <td>1</td>\n",
       "    </tr>\n",
       "  </tbody>\n",
       "</table>\n",
       "<p>1 rows × 410 columns</p>\n",
       "</div>"
      ],
      "text/plain": [
       "   know  scully  ve  think  billy  just  did  oh  night  yeah   ...     hadn  \\\n",
       "0    16      11  11      8      7     6    6   6      5     5   ...        1   \n",
       "\n",
       "   guy  great  graves  gravedigging  grave  graduating  gotten  gotta  zipcode  \n",
       "0    1      1       1             1      1           1       1      1        1  \n",
       "\n",
       "[1 rows x 410 columns]"
      ]
     },
     "execution_count": 59,
     "metadata": {},
     "output_type": "execute_result"
    }
   ],
   "source": [
    "mulder_count_vect.sort_values(by=0, axis=1, ascending=False)"
   ]
  },
  {
   "cell_type": "markdown",
   "metadata": {},
   "source": [
    "## Immediate next steps:\n",
    "* Grab necessary libraries, dictionaries, etc. for preprocessing\n",
    "* Label Scully and Mulder data\n",
    "* Review other stemmers\n",
    "* consider using ne_chunk to find important compound words like F.B.I., United States, etc.\n",
    "\n",
    "## To dos: \n",
    "* consider a lemmatizer\n",
    "* Functions for cleaning text\n",
    "* How to label the records as Scully or Mulder - add get_labels into pipeline\n",
    "* Concatenate all the episodes for Scully, and get word counts for all of them\n",
    "* Concatenate all the episodes for Mulder's lines, and get word counts for all of them\n",
    "* Get count vectorized data per line for Scully and Mulder\n",
    "* Clean the text\n",
    "    * compound words, hyphenated words\n",
    "* Special words to deal with: \n",
    "    * F.B.I. (changes to F B I after replacing punctuation) - as a dictionary\n",
    "    * X-files\n",
    "    * Names (Mulder says 'Scully' a lot, vice versa)\n",
    "    * Could also do regex to remove only certain punctuation (\\W\\s+) also drop apostrophes"
   ]
  },
  {
   "cell_type": "code",
   "execution_count": null,
   "metadata": {},
   "outputs": [],
   "source": []
  }
 ],
 "metadata": {
  "kernelspec": {
   "display_name": "Python [default]",
   "language": "python",
   "name": "python3"
  }
 },
 "nbformat": 4,
 "nbformat_minor": 2
}
